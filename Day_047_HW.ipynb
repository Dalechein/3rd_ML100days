{
 "cells": [
  {
   "cell_type": "markdown",
   "metadata": {},
   "source": [
    "## [作業重點]\n",
    "了解如何使用 Sklearn 中的 hyper-parameter search 找出最佳的超參數"
   ]
  },
  {
   "cell_type": "markdown",
   "metadata": {},
   "source": [
    "### 作業\n",
    "請使用不同的資料集，並使用 hyper-parameter search 的方式，看能不能找出最佳的超參數組合"
   ]
  },
  {
   "cell_type": "code",
   "execution_count": 1,
   "metadata": {},
   "outputs": [],
   "source": [
    "from sklearn import datasets, metrics\n",
    "from sklearn.model_selection import train_test_split, KFold, GridSearchCV\n",
    "from sklearn.ensemble import GradientBoostingRegressor, RandomForestClassifier"
   ]
  },
  {
   "cell_type": "code",
   "execution_count": 2,
   "metadata": {},
   "outputs": [],
   "source": [
    "# 讀取數字資料集\n",
    "digits = datasets.load_digits()\n",
    "# 切分訓練集/測試集\n",
    "x_train, x_test, y_train, y_test = train_test_split(digits.data, digits.target, test_size=0.25, random_state=42)\n",
    "\n",
    "# 建立模型\n",
    "clf = RandomForestClassifier(random_state=7)"
   ]
  },
  {
   "cell_type": "code",
   "execution_count": 3,
   "metadata": {},
   "outputs": [
    {
     "name": "stdout",
     "output_type": "stream",
     "text": [
      "0.98\n"
     ]
    }
   ],
   "source": [
    "# 先看看使用預設參數得到的結果\n",
    "clf.fit(x_train, y_train)\n",
    "y_pred = clf.predict(x_test)\n",
    "print(metrics.accuracy_score(y_test, y_pred))"
   ]
  },
  {
   "cell_type": "code",
   "execution_count": 4,
   "metadata": {},
   "outputs": [
    {
     "name": "stdout",
     "output_type": "stream",
     "text": [
      "Fitting 5 folds for each of 36 candidates, totalling 180 fits\n"
     ]
    },
    {
     "name": "stderr",
     "output_type": "stream",
     "text": [
      "[Parallel(n_jobs=-1)]: Using backend LokyBackend with 4 concurrent workers.\n",
      "[Parallel(n_jobs=-1)]: Done  42 tasks      | elapsed:   13.3s\n",
      "[Parallel(n_jobs=-1)]: Done 180 out of 180 | elapsed:  1.2min finished\n"
     ]
    }
   ],
   "source": [
    "# 設定要訓練的超參數組合\n",
    "n_estimators = [100, 200, 300]\n",
    "max_depth = [1, 3, 5, 7]\n",
    "max_features = [None, 'sqrt', 'log2'] \n",
    "\n",
    "hyperparameters = {\n",
    "    'n_estimators': n_estimators,\n",
    "    'max_depth' : max_depth,   \n",
    "    'max_features' : max_features\n",
    "}\n",
    "\n",
    "## 建立搜尋物件，放入模型及參數組合字典 (n_jobs=-1 會使用全部 cpu 平行運算)\n",
    "grid_search = GridSearchCV(clf, param_grid=hyperparameters, scoring=\"accuracy\", n_jobs=-1, verbose=1)\n",
    "\n",
    "# 開始搜尋最佳參數\n",
    "grid_result = grid_search.fit(x_train, y_train)\n",
    "\n",
    "# 預設會跑 5-fold cross-validadtion，總共 36 種參數組合，總共要 train 180 次模型"
   ]
  },
  {
   "cell_type": "code",
   "execution_count": 5,
   "metadata": {},
   "outputs": [
    {
     "name": "stdout",
     "output_type": "stream",
     "text": [
      "Best Accuracy: 0.963621 using {'max_depth': 7, 'max_features': 'log2', 'n_estimators': 200}\n"
     ]
    }
   ],
   "source": [
    "# 印出最佳結果與最佳參數\n",
    "print(\"Best Accuracy: %f using %s\" % (grid_result.best_score_, grid_result.best_params_))"
   ]
  },
  {
   "cell_type": "code",
   "execution_count": 6,
   "metadata": {},
   "outputs": [],
   "source": [
    "# 使用最佳參數重新建立模型\n",
    "clf_bestparam = RandomForestClassifier(max_depth=grid_result.best_params_['max_depth'],\n",
    "                                        n_estimators=grid_result.best_params_['n_estimators'],\n",
    "                                       max_features=grid_result.best_params_['max_features'])\n",
    "\n",
    "# 訓練模型\n",
    "clf_bestparam.fit(x_train, y_train)\n",
    "\n",
    "# 預測測試集\n",
    "y_pred = clf_bestparam.predict(x_test)"
   ]
  },
  {
   "cell_type": "code",
   "execution_count": 7,
   "metadata": {},
   "outputs": [
    {
     "name": "stdout",
     "output_type": "stream",
     "text": [
      "0.9688888888888889\n"
     ]
    }
   ],
   "source": [
    "print(metrics.accuracy_score(y_test, y_pred))"
   ]
  },
  {
   "cell_type": "code",
   "execution_count": 9,
   "metadata": {},
   "outputs": [
    {
     "data": {
      "text/plain": [
       "{'mean_fit_time': array([0.49949236, 1.11421318, 1.78205628, 0.33960958, 0.96203399,\n",
       "        1.20513983, 0.39742503, 0.87946005, 1.46671081, 0.93173571,\n",
       "        1.81575809, 2.79182935, 0.49107304, 0.90050898, 1.69373574,\n",
       "        0.50588274, 0.9217392 , 1.79162531, 1.65313649, 2.78187451,\n",
       "        4.04493613, 0.51159396, 0.99529862, 1.72862411, 0.67540359,\n",
       "        1.08159165, 1.5289784 , 1.89019499, 3.78338795, 6.35141129,\n",
       "        0.9351965 , 1.35997486, 1.72059641, 0.50698576, 1.00659819,\n",
       "        1.42320757]),\n",
       " 'std_fit_time': array([0.03199287, 0.06277486, 0.13238693, 0.01051492, 0.14883413,\n",
       "        0.02396304, 0.04880116, 0.10492911, 0.1714643 , 0.02727899,\n",
       "        0.0260116 , 0.08666718, 0.03338057, 0.02807517, 0.12780223,\n",
       "        0.08739768, 0.07978181, 0.05761728, 0.04096626, 0.08940876,\n",
       "        0.04897637, 0.01573902, 0.02683371, 0.12716853, 0.02757557,\n",
       "        0.03215688, 0.03748327, 0.05465701, 0.16799485, 0.45727698,\n",
       "        0.1118926 , 0.02235547, 0.05125145, 0.00486037, 0.01488342,\n",
       "        0.13367995]),\n",
       " 'mean_score_time': array([0.02154369, 0.06054602, 0.07749505, 0.02373724, 0.06870079,\n",
       "        0.079143  , 0.02423277, 0.07055359, 0.08492436, 0.02469087,\n",
       "        0.04769645, 0.07849917, 0.02598963, 0.05431581, 0.09955721,\n",
       "        0.03610239, 0.06320448, 0.09620199, 0.03079734, 0.04980607,\n",
       "        0.08429556, 0.02729588, 0.06190276, 0.09878707, 0.04460044,\n",
       "        0.05900841, 0.08880053, 0.02780476, 0.05500402, 0.11248918,\n",
       "        0.07171097, 0.05397649, 0.08081741, 0.02617826, 0.05139956,\n",
       "        0.07014318]),\n",
       " 'std_score_time': array([0.00101635, 0.01154465, 0.01297814, 0.00580045, 0.03821009,\n",
       "        0.01833972, 0.00131303, 0.02412098, 0.02668389, 0.00299675,\n",
       "        0.00530146, 0.00600924, 0.00329169, 0.01360794, 0.02477162,\n",
       "        0.01893528, 0.01152737, 0.01118032, 0.00908765, 0.00171277,\n",
       "        0.01707561, 0.00252094, 0.0218257 , 0.01460286, 0.00925296,\n",
       "        0.00556478, 0.00888041, 0.00313345, 0.00609726, 0.02056807,\n",
       "        0.03036613, 0.00451973, 0.00397328, 0.0007453 , 0.00120603,\n",
       "        0.01278731]),\n",
       " 'param_max_depth': masked_array(data=[1, 1, 1, 1, 1, 1, 1, 1, 1, 3, 3, 3, 3, 3, 3, 3, 3, 3,\n",
       "                    5, 5, 5, 5, 5, 5, 5, 5, 5, 7, 7, 7, 7, 7, 7, 7, 7, 7],\n",
       "              mask=[False, False, False, False, False, False, False, False,\n",
       "                    False, False, False, False, False, False, False, False,\n",
       "                    False, False, False, False, False, False, False, False,\n",
       "                    False, False, False, False, False, False, False, False,\n",
       "                    False, False, False, False],\n",
       "        fill_value='?',\n",
       "             dtype=object),\n",
       " 'param_max_features': masked_array(data=[None, None, None, 'sqrt', 'sqrt', 'sqrt', 'log2',\n",
       "                    'log2', 'log2', None, None, None, 'sqrt', 'sqrt',\n",
       "                    'sqrt', 'log2', 'log2', 'log2', None, None, None,\n",
       "                    'sqrt', 'sqrt', 'sqrt', 'log2', 'log2', 'log2', None,\n",
       "                    None, None, 'sqrt', 'sqrt', 'sqrt', 'log2', 'log2',\n",
       "                    'log2'],\n",
       "              mask=[False, False, False, False, False, False, False, False,\n",
       "                    False, False, False, False, False, False, False, False,\n",
       "                    False, False, False, False, False, False, False, False,\n",
       "                    False, False, False, False, False, False, False, False,\n",
       "                    False, False, False, False],\n",
       "        fill_value='?',\n",
       "             dtype=object),\n",
       " 'param_n_estimators': masked_array(data=[100, 200, 300, 100, 200, 300, 100, 200, 300, 100, 200,\n",
       "                    300, 100, 200, 300, 100, 200, 300, 100, 200, 300, 100,\n",
       "                    200, 300, 100, 200, 300, 100, 200, 300, 100, 200, 300,\n",
       "                    100, 200, 300],\n",
       "              mask=[False, False, False, False, False, False, False, False,\n",
       "                    False, False, False, False, False, False, False, False,\n",
       "                    False, False, False, False, False, False, False, False,\n",
       "                    False, False, False, False, False, False, False, False,\n",
       "                    False, False, False, False],\n",
       "        fill_value='?',\n",
       "             dtype=object),\n",
       " 'params': [{'max_depth': 1, 'max_features': None, 'n_estimators': 100},\n",
       "  {'max_depth': 1, 'max_features': None, 'n_estimators': 200},\n",
       "  {'max_depth': 1, 'max_features': None, 'n_estimators': 300},\n",
       "  {'max_depth': 1, 'max_features': 'sqrt', 'n_estimators': 100},\n",
       "  {'max_depth': 1, 'max_features': 'sqrt', 'n_estimators': 200},\n",
       "  {'max_depth': 1, 'max_features': 'sqrt', 'n_estimators': 300},\n",
       "  {'max_depth': 1, 'max_features': 'log2', 'n_estimators': 100},\n",
       "  {'max_depth': 1, 'max_features': 'log2', 'n_estimators': 200},\n",
       "  {'max_depth': 1, 'max_features': 'log2', 'n_estimators': 300},\n",
       "  {'max_depth': 3, 'max_features': None, 'n_estimators': 100},\n",
       "  {'max_depth': 3, 'max_features': None, 'n_estimators': 200},\n",
       "  {'max_depth': 3, 'max_features': None, 'n_estimators': 300},\n",
       "  {'max_depth': 3, 'max_features': 'sqrt', 'n_estimators': 100},\n",
       "  {'max_depth': 3, 'max_features': 'sqrt', 'n_estimators': 200},\n",
       "  {'max_depth': 3, 'max_features': 'sqrt', 'n_estimators': 300},\n",
       "  {'max_depth': 3, 'max_features': 'log2', 'n_estimators': 100},\n",
       "  {'max_depth': 3, 'max_features': 'log2', 'n_estimators': 200},\n",
       "  {'max_depth': 3, 'max_features': 'log2', 'n_estimators': 300},\n",
       "  {'max_depth': 5, 'max_features': None, 'n_estimators': 100},\n",
       "  {'max_depth': 5, 'max_features': None, 'n_estimators': 200},\n",
       "  {'max_depth': 5, 'max_features': None, 'n_estimators': 300},\n",
       "  {'max_depth': 5, 'max_features': 'sqrt', 'n_estimators': 100},\n",
       "  {'max_depth': 5, 'max_features': 'sqrt', 'n_estimators': 200},\n",
       "  {'max_depth': 5, 'max_features': 'sqrt', 'n_estimators': 300},\n",
       "  {'max_depth': 5, 'max_features': 'log2', 'n_estimators': 100},\n",
       "  {'max_depth': 5, 'max_features': 'log2', 'n_estimators': 200},\n",
       "  {'max_depth': 5, 'max_features': 'log2', 'n_estimators': 300},\n",
       "  {'max_depth': 7, 'max_features': None, 'n_estimators': 100},\n",
       "  {'max_depth': 7, 'max_features': None, 'n_estimators': 200},\n",
       "  {'max_depth': 7, 'max_features': None, 'n_estimators': 300},\n",
       "  {'max_depth': 7, 'max_features': 'sqrt', 'n_estimators': 100},\n",
       "  {'max_depth': 7, 'max_features': 'sqrt', 'n_estimators': 200},\n",
       "  {'max_depth': 7, 'max_features': 'sqrt', 'n_estimators': 300},\n",
       "  {'max_depth': 7, 'max_features': 'log2', 'n_estimators': 100},\n",
       "  {'max_depth': 7, 'max_features': 'log2', 'n_estimators': 200},\n",
       "  {'max_depth': 7, 'max_features': 'log2', 'n_estimators': 300}],\n",
       " 'split0_test_score': array([0.41481481, 0.41481481, 0.41481481, 0.64444444, 0.66296296,\n",
       "        0.68518519, 0.64444444, 0.67777778, 0.68148148, 0.68518519,\n",
       "        0.6962963 , 0.68888889, 0.85925926, 0.87037037, 0.88148148,\n",
       "        0.87037037, 0.86666667, 0.87407407, 0.88518519, 0.87777778,\n",
       "        0.88888889, 0.93333333, 0.92592593, 0.92592593, 0.92962963,\n",
       "        0.92962963, 0.93333333, 0.91111111, 0.90740741, 0.91111111,\n",
       "        0.94444444, 0.95555556, 0.95555556, 0.94814815, 0.95925926,\n",
       "        0.96666667]),\n",
       " 'split1_test_score': array([0.37777778, 0.45925926, 0.44814815, 0.67407407, 0.68518519,\n",
       "        0.7       , 0.66666667, 0.72222222, 0.72222222, 0.75185185,\n",
       "        0.73703704, 0.74444444, 0.87777778, 0.88518519, 0.87407407,\n",
       "        0.86296296, 0.87407407, 0.87407407, 0.86666667, 0.87777778,\n",
       "        0.88518519, 0.92962963, 0.93703704, 0.94074074, 0.93333333,\n",
       "        0.93333333, 0.94074074, 0.94814815, 0.95185185, 0.95185185,\n",
       "        0.95925926, 0.96666667, 0.97037037, 0.97037037, 0.97037037,\n",
       "        0.96296296]),\n",
       " 'split2_test_score': array([0.42007435, 0.36802974, 0.42750929, 0.64684015, 0.64312268,\n",
       "        0.67286245, 0.69888476, 0.71747212, 0.69144981, 0.73977695,\n",
       "        0.72490706, 0.72118959, 0.88847584, 0.88104089, 0.88475836,\n",
       "        0.88475836, 0.89591078, 0.89591078, 0.79925651, 0.79553903,\n",
       "        0.79553903, 0.9330855 , 0.92565056, 0.92936803, 0.92936803,\n",
       "        0.9330855 , 0.93680297, 0.88847584, 0.90334572, 0.90334572,\n",
       "        0.94795539, 0.95167286, 0.95167286, 0.95539033, 0.94795539,\n",
       "        0.94423792]),\n",
       " 'split3_test_score': array([0.39776952, 0.33085502, 0.33085502, 0.72118959, 0.73605948,\n",
       "        0.75092937, 0.76579926, 0.76579926, 0.76579926, 0.7063197 ,\n",
       "        0.7063197 , 0.7063197 , 0.85873606, 0.87732342, 0.88847584,\n",
       "        0.87732342, 0.88475836, 0.89219331, 0.87360595, 0.866171  ,\n",
       "        0.866171  , 0.94795539, 0.94052045, 0.95910781, 0.95167286,\n",
       "        0.96282528, 0.96282528, 0.92936803, 0.9330855 , 0.9330855 ,\n",
       "        0.97026022, 0.97769517, 0.97769517, 0.97769517, 0.97769517,\n",
       "        0.97769517]),\n",
       " 'split4_test_score': array([0.40892193, 0.45724907, 0.44237918, 0.66914498, 0.68773234,\n",
       "        0.69516729, 0.6802974 , 0.70260223, 0.70260223, 0.72490706,\n",
       "        0.74349442, 0.75092937, 0.86988848, 0.88847584, 0.88104089,\n",
       "        0.84758364, 0.88104089, 0.88104089, 0.87732342, 0.87732342,\n",
       "        0.87360595, 0.9330855 , 0.93680297, 0.94423792, 0.93680297,\n",
       "        0.92936803, 0.92936803, 0.91449814, 0.91078067, 0.9070632 ,\n",
       "        0.96654275, 0.95539033, 0.95539033, 0.96282528, 0.96282528,\n",
       "        0.95910781]),\n",
       " 'mean_test_score': array([0.40387168, 0.40604158, 0.41274129, 0.67113865, 0.68301253,\n",
       "        0.70082886, 0.6912185 , 0.71717472, 0.712711  , 0.72160815,\n",
       "        0.7216109 , 0.7223544 , 0.87082748, 0.88047914, 0.88196613,\n",
       "        0.86859975, 0.88049016, 0.88345863, 0.86040755, 0.8589178 ,\n",
       "        0.86187801, 0.93541787, 0.93318739, 0.93987608, 0.93616137,\n",
       "        0.93764835, 0.94061407, 0.91832025, 0.92129423, 0.92129148,\n",
       "        0.95769241, 0.96139612, 0.96213686, 0.96288586, 0.96362109,\n",
       "        0.9621341 ]),\n",
       " 'std_test_score': array([0.01500608, 0.05025777, 0.04256714, 0.02764303, 0.03109393,\n",
       "        0.02671945, 0.04130602, 0.02882495, 0.02979374, 0.023732  ,\n",
       "        0.01790178, 0.02316423, 0.01131971, 0.00630167, 0.00476547,\n",
       "        0.01275765, 0.00988505, 0.00909215, 0.03115414, 0.03199888,\n",
       "        0.03414571, 0.00641745, 0.00618383, 0.01178693, 0.00821984,\n",
       "        0.01269788, 0.01172485, 0.01984453, 0.01843003, 0.01844543,\n",
       "        0.01009011, 0.00957247, 0.01008143, 0.01047588, 0.01008668,\n",
       "        0.01088862]),\n",
       " 'rank_test_score': array([36, 35, 34, 33, 32, 30, 31, 28, 29, 27, 26, 25, 20, 19, 17, 21, 18,\n",
       "        16, 23, 24, 22, 11, 12,  8, 10,  9,  7, 15, 13, 14,  6,  5,  3,  2,\n",
       "         1,  4])}"
      ]
     },
     "execution_count": 9,
     "metadata": {},
     "output_type": "execute_result"
    }
   ],
   "source": [
    "grid_search.cv_results_"
   ]
  },
  {
   "cell_type": "code",
   "execution_count": null,
   "metadata": {},
   "outputs": [],
   "source": []
  }
 ],
 "metadata": {
  "kernelspec": {
   "display_name": "Python 3",
   "language": "python",
   "name": "python3"
  },
  "language_info": {
   "codemirror_mode": {
    "name": "ipython",
    "version": 3
   },
   "file_extension": ".py",
   "mimetype": "text/x-python",
   "name": "python",
   "nbconvert_exporter": "python",
   "pygments_lexer": "ipython3",
   "version": "3.7.7"
  }
 },
 "nbformat": 4,
 "nbformat_minor": 2
}
