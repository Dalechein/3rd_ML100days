{
 "cells": [
  {
   "cell_type": "markdown",
   "metadata": {},
   "source": [
    "# 作業\n",
    "- 新增一個欄位 `customized_age_grp`，把 `age` 分為 (0, 10], (10, 20], (20, 30], (30, 50], (50, 100] 這五組，\n",
    "'(' 表示不包含, ']' 表示包含  \n",
    "- Hints: 執行 ??pd.cut()，了解提供其中 bins 這個參數的使用方式"
   ]
  },
  {
   "cell_type": "markdown",
   "metadata": {},
   "source": [
    "# [作業目標]\n",
    "- 請同學試著查詢 pandas.cut 這個函數還有哪些參數, 藉由改動參數以達成目標\n",
    "- 藉由查詢與改動參數的過程, 熟悉查詢函數的方法與理解參數性質, 並了解數值的離散化的調整工具"
   ]
  },
  {
   "cell_type": "markdown",
   "metadata": {},
   "source": [
    "# [作業重點]\n",
    "- 仿照 In[3], In[4] 的語法, 並設定 pd.cut 的參數以指定間距"
   ]
  },
  {
   "cell_type": "code",
   "execution_count": 1,
   "metadata": {},
   "outputs": [],
   "source": [
    "# 載入套件\n",
    "import numpy as np\n",
    "import pandas as pd\n",
    "\n",
    "import matplotlib.pyplot as plt\n",
    "%matplotlib inline"
   ]
  },
  {
   "cell_type": "code",
   "execution_count": 2,
   "metadata": {},
   "outputs": [],
   "source": [
    "# 初始設定 Ages 的資料\n",
    "ages = pd.DataFrame({\"age\": [18,22,25,27,7,21,23,37,30,61,45,41,9,18,80,100]})"
   ]
  },
  {
   "cell_type": "markdown",
   "metadata": {},
   "source": [
    "#### 等寬劃分"
   ]
  },
  {
   "cell_type": "code",
   "execution_count": 3,
   "metadata": {},
   "outputs": [],
   "source": [
    "# 新增欄位 \"equal_width_age\", 對年齡做等寬劃分\n",
    "ages[\"equal_width_age\"] = pd.cut(ages[\"age\"], 4)"
   ]
  },
  {
   "cell_type": "code",
   "execution_count": 4,
   "metadata": {},
   "outputs": [
    {
     "data": {
      "text/plain": [
       "(6.907, 30.25]    10\n",
       "(30.25, 53.5]      3\n",
       "(76.75, 100.0]     2\n",
       "(53.5, 76.75]      1\n",
       "Name: equal_width_age, dtype: int64"
      ]
     },
     "execution_count": 4,
     "metadata": {},
     "output_type": "execute_result"
    }
   ],
   "source": [
    "# 觀察等寬劃分下, 每個種組距各出現幾次\n",
    "ages[\"equal_width_age\"].value_counts() # 每個 bin 的值的範圍大小都是一樣的"
   ]
  },
  {
   "cell_type": "markdown",
   "metadata": {},
   "source": [
    "#### 等頻劃分"
   ]
  },
  {
   "cell_type": "code",
   "execution_count": 5,
   "metadata": {},
   "outputs": [],
   "source": [
    "# 新增欄位 \"equal_freq_age\", 對年齡做等頻劃分\n",
    "ages[\"equal_freq_age\"] = pd.qcut(ages[\"age\"], 4)"
   ]
  },
  {
   "cell_type": "code",
   "execution_count": 6,
   "metadata": {},
   "outputs": [
    {
     "data": {
      "text/plain": [
       "(42.0, 100.0]     4\n",
       "(26.0, 42.0]      4\n",
       "(20.25, 26.0]     4\n",
       "(6.999, 20.25]    4\n",
       "Name: equal_freq_age, dtype: int64"
      ]
     },
     "execution_count": 6,
     "metadata": {},
     "output_type": "execute_result"
    }
   ],
   "source": [
    "# 觀察等頻劃分下, 每個種組距各出現幾次\n",
    "ages[\"equal_freq_age\"].value_counts() # 每個 bin 的資料筆數是一樣的"
   ]
  },
  {
   "cell_type": "code",
   "execution_count": 7,
   "metadata": {},
   "outputs": [
    {
     "data": {
      "text/plain": [
       "(20, 30]     6\n",
       "(50, 100]    3\n",
       "(30, 50]     3\n",
       "(10, 20]     2\n",
       "(0, 10]      2\n",
       "Name: customized_age_grp, dtype: int64"
      ]
     },
     "execution_count": 7,
     "metadata": {},
     "output_type": "execute_result"
    }
   ],
   "source": [
    "# 把 age 分為 (0, 10], (10, 20], (20, 30], (30, 50], (50, 100] 這五組\n",
    "bins = [0,10,20,30,50,100]\n",
    "ages[\"customized_age_grp\"] = pd.cut(ages[\"age\"], bins) \n",
    "ages[\"customized_age_grp\"].value_counts()"
   ]
  },
  {
   "cell_type": "code",
   "execution_count": 8,
   "metadata": {},
   "outputs": [
    {
     "data": {
      "text/plain": [
       "(0      (10, 20]\n",
       " 1      (20, 30]\n",
       " 2      (20, 30]\n",
       " 3      (20, 30]\n",
       " 4       (0, 10]\n",
       " 5      (20, 30]\n",
       " 6      (20, 30]\n",
       " 7      (30, 50]\n",
       " 8      (20, 30]\n",
       " 9     (50, 100]\n",
       " 10     (30, 50]\n",
       " 11     (30, 50]\n",
       " 12      (0, 10]\n",
       " 13     (10, 20]\n",
       " 14    (50, 100]\n",
       " 15    (50, 100]\n",
       " Name: age, dtype: category\n",
       " Categories (5, interval[int64]): [(0, 10] < (10, 20] < (20, 30] < (30, 50] < (50, 100]],\n",
       " array([  0,  10,  20,  30,  50, 100]))"
      ]
     },
     "execution_count": 8,
     "metadata": {},
     "output_type": "execute_result"
    }
   ],
   "source": [
    "# 使用retbins參數，看pd.cut()如何劃分區間\n",
    "pd.cut(ages[\"age\"], bins, retbins = True) "
   ]
  },
  {
   "cell_type": "code",
   "execution_count": 9,
   "metadata": {},
   "outputs": [
    {
     "data": {
      "text/plain": [
       "0      [10.0, 20.0)\n",
       "1      [20.0, 30.0)\n",
       "2      [20.0, 30.0)\n",
       "3      [20.0, 30.0)\n",
       "4       [0.0, 10.0)\n",
       "5      [20.0, 30.0)\n",
       "6      [20.0, 30.0)\n",
       "7      [30.0, 50.0)\n",
       "8      [30.0, 50.0)\n",
       "9     [50.0, 100.0)\n",
       "10     [30.0, 50.0)\n",
       "11     [30.0, 50.0)\n",
       "12      [0.0, 10.0)\n",
       "13     [10.0, 20.0)\n",
       "14    [50.0, 100.0)\n",
       "15              NaN\n",
       "Name: age, dtype: category\n",
       "Categories (5, interval[int64]): [[0, 10) < [10, 20) < [20, 30) < [30, 50) < [50, 100)]"
      ]
     },
     "execution_count": 9,
     "metadata": {},
     "output_type": "execute_result"
    }
   ],
   "source": [
    "# 預設不包含左邊的界值，包含右邊的界值\n",
    "# 設定right參數為False，即變為包含左邊的界值，不包含右邊的界值\n",
    "pd.cut(ages[\"age\"], bins, right=False) "
   ]
  },
  {
   "cell_type": "code",
   "execution_count": 10,
   "metadata": {},
   "outputs": [
    {
     "data": {
      "text/plain": [
       "0      (10, 20]\n",
       "1      (20, 30]\n",
       "2      (20, 30]\n",
       "3      (20, 30]\n",
       "4       (0, 10]\n",
       "5      (20, 30]\n",
       "6      (20, 30]\n",
       "7      (30, 50]\n",
       "8      (20, 30]\n",
       "9     (50, 100]\n",
       "10     (30, 50]\n",
       "11     (30, 50]\n",
       "12      (0, 10]\n",
       "13     (10, 20]\n",
       "14    (50, 100]\n",
       "15    (50, 100]\n",
       "Name: age, dtype: category\n",
       "Categories (5, interval[int64]): [(0, 10] < (10, 20] < (20, 30] < (30, 50] < (50, 100]]"
      ]
     },
     "execution_count": 10,
     "metadata": {},
     "output_type": "execute_result"
    }
   ],
   "source": [
    "# 預設不包含左邊的界值，包含右邊的界值\n",
    "# 設定right參數為False，即變為包含左邊的界值，不包含右邊的界值\n",
    "pd.cut(ages[\"age\"], bins) "
   ]
  },
  {
   "cell_type": "code",
   "execution_count": 11,
   "metadata": {},
   "outputs": [
    {
     "data": {
      "text/plain": [
       "(6.91, 30.25]     10\n",
       "(30.25, 53.5]      3\n",
       "(76.75, 100.0]     2\n",
       "(53.5, 76.75]      1\n",
       "Name: age, dtype: int64"
      ]
     },
     "execution_count": 11,
     "metadata": {},
     "output_type": "execute_result"
    }
   ],
   "source": [
    "# precision預設保留三位小數\n",
    "# precision精度設為2，保留二位小數\n",
    "pd.cut(ages[\"age\"], 4, precision=2).value_counts() "
   ]
  },
  {
   "cell_type": "code",
   "execution_count": 12,
   "metadata": {},
   "outputs": [
    {
     "data": {
      "text/plain": [
       "(0         網購低消費族\n",
       " 1         網購低消費族\n",
       " 2         網購低消費族\n",
       " 3         網購低消費族\n",
       " 4     小於12歲不列入評估\n",
       " 5         網購低消費族\n",
       " 6         網購低消費族\n",
       " 7         網購高消費族\n",
       " 8         網購高消費族\n",
       " 9         網購中消費族\n",
       " 10        網購高消費族\n",
       " 11        網購高消費族\n",
       " 12    小於12歲不列入評估\n",
       " 13        網購低消費族\n",
       " 14    大於65歲不列入評估\n",
       " 15    大於65歲不列入評估\n",
       " Name: age, dtype: category\n",
       " Categories (5, object): ['小於12歲不列入評估' < '網購低消費族' < '網購高消費族' < '網購中消費族' < '大於65歲不列入評估'],\n",
       " array([-inf,  12.,  30.,  50.,  66.,  inf]))"
      ]
     },
     "execution_count": 12,
     "metadata": {},
     "output_type": "execute_result"
    }
   ],
   "source": [
    "#12-29, 30-49, 50-65\n",
    "#[18,22,25,27,7,21,23,37,30,61,45,41,9,18,80,100]\n",
    "bins = [-np.inf,12,30,50,66,np.inf]\n",
    "pd.cut(ages[\"age\"], bins, retbins = True, labels = [\"小於12歲不列入評估\",\"網購低消費族\",\"網購高消費族\",\"網購中消費族\",\"大於65歲不列入評估\"],right = False)"
   ]
  },
  {
   "cell_type": "code",
   "execution_count": 13,
   "metadata": {},
   "outputs": [
    {
     "data": {
      "text/plain": [
       "(0         網購低消費族\n",
       " 1         網購低消費族\n",
       " 2         網購低消費族\n",
       " 3         網購低消費族\n",
       " 4     小於12歲不列入評估\n",
       " 5         網購低消費族\n",
       " 6         網購低消費族\n",
       " 7         網購高消費族\n",
       " 8         網購高消費族\n",
       " 9         網購中消費族\n",
       " 10        網購高消費族\n",
       " 11        網購高消費族\n",
       " 12    小於12歲不列入評估\n",
       " 13        網購低消費族\n",
       " 14    大於65歲不列入評估\n",
       " 15    大於65歲不列入評估\n",
       " Name: age, dtype: category\n",
       " Categories (5, object): ['小於12歲不列入評估' < '網購低消費族' < '網購高消費族' < '網購中消費族' < '大於65歲不列入評估'],\n",
       " array([-inf,  12.,  30.,  50.,  66.,  inf]))"
      ]
     },
     "execution_count": 13,
     "metadata": {},
     "output_type": "execute_result"
    }
   ],
   "source": [
    "pd.cut(ages[\"age\"], bins, retbins = True, labels = [\"小於12歲不列入評估\",\"網購低消費族\",\"網購高消費族\",\"網購中消費族\",\"大於65歲不列入評估\"],right = False)"
   ]
  },
  {
   "cell_type": "code",
   "execution_count": null,
   "metadata": {},
   "outputs": [],
   "source": []
  }
 ],
 "metadata": {
  "kernelspec": {
   "display_name": "Python 3",
   "language": "python",
   "name": "python3"
  },
  "language_info": {
   "codemirror_mode": {
    "name": "ipython",
    "version": 3
   },
   "file_extension": ".py",
   "mimetype": "text/x-python",
   "name": "python",
   "nbconvert_exporter": "python",
   "pygments_lexer": "ipython3",
   "version": "3.7.7"
  }
 },
 "nbformat": 4,
 "nbformat_minor": 2
}
