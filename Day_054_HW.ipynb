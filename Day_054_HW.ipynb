{
 "cells": [
  {
   "cell_type": "markdown",
   "metadata": {},
   "source": [
    "# 作業\n",
    "* 試著想想看, 非監督學習是否有可能使用評價函數 (Metric) 來鑑別好壞呢?  \n",
    "(Hint : 可以分為 \"有目標值\" 與 \"無目標值\" 兩個方向思考\n",
    "有目標值: 有監督學習\n",
    "無目標值: 非監督學習\n",
    "\n",
    "#### 非監督學習: 主要可用於分群，分群步驟如下。\n",
    "#### 步驟 1. 決定K值(分幾群)。\n",
    "#### 步驟 2. 隨機給定K個中心點。\n",
    "#### 步驟 3. 計算每個樣本與每個中心點之間的距離，劃分與最接近的中心點為一群。\n",
    "#### 步驟 4. 計算每群樣本的新中心點，並將舊中心點移至新中心點。\n",
    "#### 步驟 5. 重複步驟3與4，直到中心點不再變動為止。\n",
    "\n",
    "#### 評價函數：使用輪廓係數\n",
    "\n",
    "對於其中的一個點 i 來說：\n",
    "計算 a(i) = average(i向量到所有它屬於的簇中其它點的距離)\n",
    "計算 b(i) = min (i向量到與它相鄰最近的一簇內的所有點的平均距離)\n",
    "\n",
    "那麼 i 向量輪廓係數就為：\n",
    "S(i) = (b(i) - a(i))/max{a(i), b(i)}\n",
    "\n",
    "輪廓係數的值是介於 [-1,1] ，越趨近於1代表內聚度和分離度都相對較優。"
   ]
  },
  {
   "cell_type": "markdown",
   "metadata": {
    "collapsed": true
   },
   "source": []
  }
 ],
 "metadata": {
  "kernelspec": {
   "display_name": "Python 3",
   "language": "python",
   "name": "python3"
  },
  "language_info": {
   "codemirror_mode": {
    "name": "ipython",
    "version": 3
   },
   "file_extension": ".py",
   "mimetype": "text/x-python",
   "name": "python",
   "nbconvert_exporter": "python",
   "pygments_lexer": "ipython3",
   "version": "3.7.9"
  }
 },
 "nbformat": 4,
 "nbformat_minor": 1
}
