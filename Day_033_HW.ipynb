{
 "cells": [
  {
   "cell_type": "markdown",
   "metadata": {},
   "source": [
    "## 練習時間"
   ]
  },
  {
   "cell_type": "markdown",
   "metadata": {},
   "source": [
    "請觀看李宏毅教授以神奇寶貝進化 CP 值預測的範例，解說何謂機器學習與過擬合。並回答以下問題"
   ]
  },
  {
   "cell_type": "markdown",
   "metadata": {},
   "source": [
    "[youtube](https://www.youtube.com/watch?v=fegAeph9UaA)"
   ]
  },
  {
   "cell_type": "markdown",
   "metadata": {},
   "source": [
    "### 1. 模型的泛化能力 (generalization) 是指什麼？ \n",
    "- Ans: 訓練資料和測試資料都能有不錯表現的模型。當使用簡單模型時，訓練資料和測試資料的結果都誤差很大，即所謂的欠凝合。而當使用複雜模型時，雖然訓練資料的結果很好，但在測試資料時，卻表現很差，即所謂的過凝合。模型的泛化能力，則即取其中界點的模型，訓練資料的結果增長趨緩，而測試資料的結果增長趨緩的情況下。\n",
    "\n",
    "### 2. 分類問題與回歸問題分別可用的目標函數有哪些？\n",
    "- 分類問題\n",
    "#### 1.  0-1\n",
    "#### 2.  對數\n",
    "#### 3.  指數\n",
    "#### 4.  合頁\n",
    "#### 5.  錯誤率、查準、查全、F1得分、混淆矩陣\n",
    "#### 6.  ROC曲線、AUC\n",
    "\n",
    "- 回歸問題\n",
    "#### 1.  均方誤差\n",
    "#### 2.  均方根誤差\n",
    "#### 3.  平均絕對誤差\n",
    "#### 4.  平均相對誤差\n",
    "#### 5.  平均均方對數誤差\n",
    "#### 6.  Huber誤差"
   ]
  },
  {
   "cell_type": "code",
   "execution_count": null,
   "metadata": {},
   "outputs": [],
   "source": []
  }
 ],
 "metadata": {
  "kernelspec": {
   "display_name": "Python 3",
   "language": "python",
   "name": "python3"
  },
  "language_info": {
   "codemirror_mode": {
    "name": "ipython",
    "version": 3
   },
   "file_extension": ".py",
   "mimetype": "text/x-python",
   "name": "python",
   "nbconvert_exporter": "python",
   "pygments_lexer": "ipython3",
   "version": "3.7.7"
  }
 },
 "nbformat": 4,
 "nbformat_minor": 2
}
