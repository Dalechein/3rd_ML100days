{
 "cells": [
  {
   "cell_type": "markdown",
   "metadata": {},
   "source": [
    "## [作業重點]\n",
    "了解隨機森林改善了決策樹的什麼缺點？是用什麼方法改進的？\n",
    "- 隨機森林可用在分類和回歸上。\n",
    "- 可處理高維度數據，並且不用做特徵選擇。\n",
    "#### 因為隨機森林是用隨機的方式建立一片森林。隨機來源有兩個，樣本上隨機(行取樣)和特徵上隨機(列取樣)，兩種隨機取樣過程確保了隨機性。因此，只要森林中的樹夠多，就不易過擬合。\n",
    "- 訓練完後，它能給出哪個特徵重要。\n",
    "#### 例如：如果特徵j是重要特徵，那麼加入一些隨機雜訊後，模型效能會下降。將每棵樹Ti對應的OOB資料，在特徵j上的值重新隨機排列，分別計算打亂前和打亂後的誤差，最後在森林層面上取平均值，決定特徵的重要性。\n",
    "- 容易實現平行化，速度快。\n",
    "#### 因為隨機森林的決策樹是互相獨立的，因此，在bagging中，能夠分配到不同的電腦中進行運算，速度變快。\n",
    "\n",
    "隨機森林缺點：\n",
    "- 決策樹過多會導致效能降低。\n",
    "- 樣本噪音過大，容易造成overfitting。"
   ]
  },
  {
   "cell_type": "markdown",
   "metadata": {},
   "source": [
    "## 作業\n",
    "\n",
    "閱讀以下兩篇文獻，了解隨機森林原理，並試著回答後續的思考問題\n",
    "- [隨機森林 (random forest) - 中文](http://hhtucode.blogspot.tw/2013/06/ml-random-forest.html)\n",
    "- [how random forest works - 英文](https://medium.com/@Synced/how-random-forest-algorithm-works-in-machine-learning-3c0fe15b6674)"
   ]
  },
  {
   "cell_type": "markdown",
   "metadata": {},
   "source": [
    "\n",
    "1. 隨機森林中的每一棵樹，是希望能夠\n",
    "\n",
    "    - 沒有任何限制，讓樹可以持續生長 (讓樹生成很深，讓模型變得複雜)\n",
    "    \n",
    "    - 不要過度生長，避免 Overfitting\n",
    "    \n",
    "    \n",
    "2. 假設總共有 N 筆資料，每棵樹用取後放回的方式抽了總共 N 筆資料生成，請問這棵樹大約使用了多少 % 不重複的原資料生成?\n",
    "hint: 0.632 bootstrap\n"
   ]
  },
  {
   "cell_type": "markdown",
   "metadata": {},
   "source": [
    "# 作業1"
   ]
  },
  {
   "cell_type": "markdown",
   "metadata": {},
   "source": [
    "1. 當樹的數量到一定程度時，若再增加，只會增加它的計算成本，並不會取得更好的效果。\n",
    "2. 在樹的數量上，建議在64棵樹與128棵樹之間，因為AUC的平均值或眾數在64棵樹後就會漸漸地趨於收斂。例如在某些資料集，64棵樹後就沒有太大的改變，然後在128棵樹後，跟256,512,1024,2048,4096棵樹沒有太大的差別。因此樹的數量建議在64~128棵，能夠在AUC,處理時間和記憶體使用量上取得好的平衡。\n",
    "3. 在眾數方面，顯示在128棵樹後，將會使用所有特徵。若特徵少的話，也許在8棵樹後，就會使用所有特徵，在某些case(例如：遺傳工程)上是不希望如此的。"
   ]
  },
  {
   "cell_type": "markdown",
   "metadata": {},
   "source": [
    "# 作業2"
   ]
  },
  {
   "cell_type": "markdown",
   "metadata": {},
   "source": [
    "63.2%"
   ]
  }
 ],
 "metadata": {
  "kernelspec": {
   "display_name": "Python 3",
   "language": "python",
   "name": "python3"
  },
  "language_info": {
   "codemirror_mode": {
    "name": "ipython",
    "version": 3
   },
   "file_extension": ".py",
   "mimetype": "text/x-python",
   "name": "python",
   "nbconvert_exporter": "python",
   "pygments_lexer": "ipython3",
   "version": "3.7.7"
  }
 },
 "nbformat": 4,
 "nbformat_minor": 2
}
