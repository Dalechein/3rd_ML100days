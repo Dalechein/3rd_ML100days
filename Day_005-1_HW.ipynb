{
 "cells": [
  {
   "cell_type": "code",
   "execution_count": 14,
   "metadata": {},
   "outputs": [
    {
     "name": "stdout",
     "output_type": "stream",
     "text": [
      "          Ada   Bill  Cherry\n",
      "Age      21.0   29.0    33.0\n",
      "Height  152.0  173.0   161.0\n",
      "Weight   96.3   97.6    76.7\n"
     ]
    }
   ],
   "source": [
    "import pandas as pd\n",
    "import numpy as np\n",
    "\n",
    "name = ['Ada','Bill','Cherry']\n",
    "body = ['Age', 'Height', 'Weight']\n",
    "Age = [21,29,33]\n",
    "Height = [152,173,161]\n",
    "Weight = np.random.uniform(40,100,3).round(1)\n",
    "df = pd.DataFrame([Age,Height,Weight],columns = name, index = body)\n",
    "print (df)"
   ]
  },
  {
   "cell_type": "code",
   "execution_count": null,
   "metadata": {},
   "outputs": [],
   "source": []
  }
 ],
 "metadata": {
  "kernelspec": {
   "display_name": "Python 3",
   "language": "python",
   "name": "python3"
  },
  "language_info": {
   "codemirror_mode": {
    "name": "ipython",
    "version": 3
   },
   "file_extension": ".py",
   "mimetype": "text/x-python",
   "name": "python",
   "nbconvert_exporter": "python",
   "pygments_lexer": "ipython3",
   "version": "3.7.7"
  }
 },
 "nbformat": 4,
 "nbformat_minor": 1
}
